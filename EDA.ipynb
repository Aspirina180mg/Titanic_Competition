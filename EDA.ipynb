{
 "cells": [
  {
   "cell_type": "markdown",
   "metadata": {},
   "source": [
    "# Install and Imports"
   ]
  },
  {
   "cell_type": "code",
   "execution_count": null,
   "metadata": {},
   "outputs": [],
   "source": [
    "import data_essentials_utils as desu"
   ]
  },
  {
   "cell_type": "code",
   "execution_count": null,
   "metadata": {},
   "outputs": [],
   "source": [
    "packages = [\"scikit-learn\"]\n",
    "install_packages(packages)\n",
    "import_packages(packages)"
   ]
  },
  {
   "cell_type": "code",
   "execution_count": null,
   "metadata": {},
   "outputs": [],
   "source": [
    "from sklearn.ensemble import RandomForestClassifier"
   ]
  },
  {
   "cell_type": "code",
   "execution_count": null,
   "metadata": {},
   "outputs": [],
   "source": [
    "df_train = desu.extract(\"dataframes/df_train.parquet\")\n",
    "df_test = desu.extract(\"dataframes/df_test.parquet\")"
   ]
  },
  {
   "cell_type": "markdown",
   "metadata": {},
   "source": [
    "3. Análisis exploratorio (EDA)\n",
    "3.1 Inspección rápida:\n",
    ".head(), .info(), .describe()\n",
    "\n",
    "Identifica valores nulos.\n",
    "\n",
    "Observa tipos de datos.\n",
    "\n"
   ]
  },
  {
   "cell_type": "code",
   "execution_count": null,
   "metadata": {},
   "outputs": [],
   "source": [
    "desu.info(df_train,\"train data\")"
   ]
  },
  {
   "cell_type": "markdown",
   "metadata": {},
   "source": [
    "3.2 Visualizaciones básicas:\n",
    "Distribución de Survived.\n",
    "\n",
    "Comparaciones de supervivencia por:\n",
    "\n",
    "Sex\n",
    "\n",
    "Pclass\n",
    "\n",
    "Embarked\n",
    "\n",
    "SibSp / Parch\n",
    "\n",
    "Herramientas: Seaborn, Matplotlib."
   ]
  },
  {
   "cell_type": "markdown",
   "metadata": {},
   "source": [
    "3.3 Observaciones importantes:\n",
    "¿El sexo afecta la supervivencia?\n",
    "\n",
    "¿Las clases sociales (Pclass) son relevantes?\n",
    "\n",
    "¿Existen muchas columnas con valores nulos (Cabin, Age)?"
   ]
  },
  {
   "cell_type": "markdown",
   "metadata": {},
   "source": [
    "4. Preprocesamiento de datos\n",
    "4.1 Manejo de valores nulos:\n",
    "Age: Rellenar con la mediana o hacer bins (rangos de edad).\n",
    "\n",
    "Cabin: O eliminar la columna o crear una columna binaria (Cabin conocida / desconocida).\n",
    "\n",
    "Embarked: Rellenar con el valor más común."
   ]
  },
  {
   "cell_type": "markdown",
   "metadata": {},
   "source": [
    "4.2 Transformar variables categóricas:\n",
    "Sex: convertir a 0 (male) y 1 (female).\n",
    "\n",
    "Embarked: codificar como números.\n",
    "\n",
    "Si usas árboles, puedes dejar One-Hot Encoding para después."
   ]
  },
  {
   "cell_type": "markdown",
   "metadata": {},
   "source": [
    "4.3 Feature Engineering (opcional pero recomendable):\n",
    "Crear una columna de Title (Mr, Mrs, Miss, etc.) a partir del nombre.\n",
    "\n",
    "Crear FamilySize = SibSp + Parch + 1.\n",
    "\n",
    "Crear IsAlone (1 si viaja solo, 0 si viaja acompañado).\n",
    "\n",
    "Agrupar edades en rangos (Child, Teen, Adult, Senior)."
   ]
  },
  {
   "cell_type": "markdown",
   "metadata": {},
   "source": [
    "5. Selección de características (Features)\n",
    "Eliminar columnas irrelevantes: PassengerId, Ticket, Name.\n",
    "\n",
    "Seleccionar variables limpias y transformadas para el modelo:\n",
    "\n",
    "Pclass, Sex, Age, SibSp, Parch, Fare, Embarked, FamilySize, Title, IsAlone."
   ]
  },
  {
   "cell_type": "markdown",
   "metadata": {},
   "source": [
    "6. Entrenamiento de modelos\n",
    "6.1 Modelos iniciales:\n",
    "Logistic Regression (rápido, baseline).\n",
    "\n",
    "Decision Tree.\n",
    "\n",
    "Random Forest.\n",
    "\n",
    "K-Nearest Neighbors (KNN).\n",
    "\n",
    "XGBoost (opcional, más avanzado)."
   ]
  },
  {
   "cell_type": "markdown",
   "metadata": {},
   "source": [
    "6.2 Probar y comparar modelos:\n",
    "Usa validación cruzada (cross-validation) o dividir train en train/test.\n",
    "\n",
    "Métrica: Accuracy."
   ]
  },
  {
   "cell_type": "markdown",
   "metadata": {},
   "source": [
    "7. Afinar el modelo (Tuning)\n",
    "Ajustar hiperparámetros (GridSearchCV, RandomizedSearchCV).\n",
    "\n",
    "Técnicas de Feature Scaling si es necesario (KNN, Logistic Regression).\n",
    "\n",
    "Técnicas de Feature Selection si ves que eliminar variables mejora el resultado."
   ]
  },
  {
   "cell_type": "markdown",
   "metadata": {},
   "source": [
    "8. Predicciones finales\n",
    "Aplicar el modelo elegido al dataset de test.csv.\n",
    "\n",
    "Guardar el resultado en un archivo submission.csv:"
   ]
  },
  {
   "cell_type": "code",
   "execution_count": null,
   "metadata": {},
   "outputs": [],
   "source": [
    "submission = pd.DataFrame({\n",
    "    'PassengerId': test['PassengerId'],\n",
    "    'Survived': predictions  # predictions es tu array de predicciones (0 o 1)\n",
    "})\n",
    "submission.to_csv('submission.csv', index=False)\n"
   ]
  },
  {
   "cell_type": "markdown",
   "metadata": {},
   "source": [
    "9. Subir a Kaggle\n",
    "Ve a la página del desafío.\n",
    "\n",
    "Sube tu archivo submission.csv.\n",
    "\n",
    "Verás tu puntaje en el Leaderboard."
   ]
  },
  {
   "cell_type": "markdown",
   "metadata": {},
   "source": [
    "10. Iterar y mejorar\n",
    "Revisa tus errores.\n",
    "\n",
    "Prueba nuevas variables.\n",
    "\n",
    "Prueba ensamblar varios modelos (ensembling).\n",
    "\n",
    "Participa en foros de Kaggle para ver otras soluciones."
   ]
  }
 ],
 "metadata": {
  "kernelspec": {
   "display_name": "Python 3",
   "language": "python",
   "name": "python3"
  },
  "language_info": {
   "codemirror_mode": {
    "name": "ipython",
    "version": 3
   },
   "file_extension": ".py",
   "mimetype": "text/x-python",
   "name": "python",
   "nbconvert_exporter": "python",
   "pygments_lexer": "ipython3",
   "version": "3.10.11"
  }
 },
 "nbformat": 4,
 "nbformat_minor": 2
}
