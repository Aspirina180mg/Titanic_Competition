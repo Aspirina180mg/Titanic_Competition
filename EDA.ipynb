{
 "cells": [
  {
   "cell_type": "markdown",
   "metadata": {},
   "source": [
    "# Install and Imports"
   ]
  },
  {
   "cell_type": "code",
   "execution_count": 104,
   "metadata": {},
   "outputs": [],
   "source": [
    "from sklearn.ensemble import RandomForestClassifier"
   ]
  },
  {
   "cell_type": "code",
   "execution_count": 105,
   "metadata": {},
   "outputs": [],
   "source": [
    "from data_essentials_utils import *"
   ]
  },
  {
   "cell_type": "code",
   "execution_count": 106,
   "metadata": {},
   "outputs": [
    {
     "name": "stdout",
     "output_type": "stream",
     "text": [
      "['scikit-learn']\n",
      "Already installed: scikit-learn\n",
      "\n",
      "['scikit-learn']\n",
      "Error importing scikit-learn: Is it installed?\n",
      "['scikit-learn']\n"
     ]
    }
   ],
   "source": [
    "packages = [\"scikit-learn\"]\n",
    "print(packages)\n",
    "install_packages(packages)\n",
    "print(packages)\n",
    "import_packages(packages)\n",
    "print(packages)"
   ]
  },
  {
   "cell_type": "code",
   "execution_count": 107,
   "metadata": {},
   "outputs": [
    {
     "name": "stdout",
     "output_type": "stream",
     "text": [
      "['scikit-learn']\n"
     ]
    }
   ],
   "source": [
    "print(packages)"
   ]
  },
  {
   "cell_type": "code",
   "execution_count": 108,
   "metadata": {},
   "outputs": [
    {
     "name": "stdout",
     "output_type": "stream",
     "text": [
      "Error importing scikit-learn: Is it installed?\n"
     ]
    }
   ],
   "source": [
    "import_packages(packages)"
   ]
  },
  {
   "cell_type": "code",
   "execution_count": 109,
   "metadata": {},
   "outputs": [
    {
     "name": "stdout",
     "output_type": "stream",
     "text": [
      "Parquet data extraction successful.\n",
      "Parquet data extraction successful.\n"
     ]
    }
   ],
   "source": [
    "df_train = extract(\"dataframes/df_train.parquet\")\n",
    "df_test = extract(\"dataframes/df_test.parquet\")"
   ]
  },
  {
   "cell_type": "code",
   "execution_count": 110,
   "metadata": {},
   "outputs": [
    {
     "name": "stdout",
     "output_type": "stream",
     "text": [
      "\n",
      "---Info-train-data--------------------------------------------\n",
      "---Duplicated values: 0\n",
      "---Fully empty rows: 0\n",
      "\n",
      "---Dataframe info:\n",
      "\n",
      "<class 'pandas.core.frame.DataFrame'>\n",
      "RangeIndex: 889 entries, 0 to 888\n",
      "Data columns (total 10 columns):\n",
      " #   Column       Non-Null Count  Dtype  \n",
      "---  ------       --------------  -----  \n",
      " 0   PassengerId  889 non-null    int64  \n",
      " 1   Survived     889 non-null    int64  \n",
      " 2   Pclass       889 non-null    int64  \n",
      " 3   Sex          889 non-null    object \n",
      " 4   Age          889 non-null    float64\n",
      " 5   SibSp        889 non-null    int64  \n",
      " 6   Parch        889 non-null    int64  \n",
      " 7   Fare         889 non-null    float64\n",
      " 8   Embarked     889 non-null    object \n",
      " 9   Age_missing  889 non-null    int64  \n",
      "dtypes: float64(2), int64(6), object(2)\n",
      "memory usage: 69.6+ KB\n",
      "\n",
      "---Missing values:\n",
      "PassengerId    0\n",
      "Survived       0\n",
      "Pclass         0\n",
      "Sex            0\n",
      "Age            0\n",
      "SibSp          0\n",
      "Parch          0\n",
      "Fare           0\n",
      "Embarked       0\n",
      "Age_missing    0\n",
      "dtype: int64\n",
      "\n",
      "---Dataframe head:\n",
      "   PassengerId  Survived  Pclass     Sex   Age  SibSp  Parch     Fare Embarked  Age_missing\n",
      "0            1         0       3    male  22.0      1      0   7.2500        S            0\n",
      "1            2         1       1  female  38.0      1      0  71.2833        C            0\n",
      "2            3         1       3  female  26.0      0      0   7.9250        S            0\n",
      "\n",
      "----Dataframe description:\n",
      "       PassengerId    Survived      Pclass         Age       SibSp       Parch        Fare  Age_missing\n",
      "count   889.000000  889.000000  889.000000  889.000000  889.000000  889.000000  889.000000   889.000000\n",
      "mean    446.000000    0.382452    2.311586   29.653622    0.524184    0.382452   32.096681     0.199100\n",
      "std     256.998173    0.486260    0.834700   12.968367    1.103705    0.806761   49.697504     0.399548\n",
      "min       1.000000    0.000000    1.000000    0.420000    0.000000    0.000000    0.000000     0.000000\n",
      "25%     224.000000    0.000000    2.000000   22.000000    0.000000    0.000000    7.895800     0.000000\n",
      "50%     446.000000    0.000000    3.000000   29.700000    0.000000    0.000000   14.454200     0.000000\n",
      "75%     668.000000    1.000000    3.000000   35.000000    1.000000    0.000000   31.000000     0.000000\n",
      "max     891.000000    1.000000    3.000000   80.000000    8.000000    6.000000  512.329200     1.000000\n"
     ]
    }
   ],
   "source": [
    "info(df_train,\"train data\")"
   ]
  },
  {
   "cell_type": "code",
   "execution_count": 111,
   "metadata": {},
   "outputs": [
    {
     "name": "stdout",
     "output_type": "stream",
     "text": [
      "CSV data extraction successful.\n",
      "Your submission was successfully saved!\n"
     ]
    }
   ],
   "source": [
    "df_test = extract(\"Raw data/test.csv\")\n",
    "y = df_train[\"Survived\"]\n",
    "\n",
    "features = [\"Pclass\", \"Sex\", \"SibSp\", \"Parch\"]\n",
    "X = pd.get_dummies(df_train[features])\n",
    "X_test = pd.get_dummies(df_test[features])\n",
    "\n",
    "model = RandomForestClassifier(n_estimators=100, max_depth=5, random_state=1)\n",
    "model.fit(X, y)\n",
    "predictions = model.predict(X_test)\n",
    "\n",
    "output = pd.DataFrame({'PassengerId': df_test.PassengerId, 'Survived': predictions})\n",
    "output.to_csv('submission.csv', index=False)\n",
    "print(\"Your submission was successfully saved!\")"
   ]
  }
 ],
 "metadata": {
  "kernelspec": {
   "display_name": "Python 3",
   "language": "python",
   "name": "python3"
  },
  "language_info": {
   "codemirror_mode": {
    "name": "ipython",
    "version": 3
   },
   "file_extension": ".py",
   "mimetype": "text/x-python",
   "name": "python",
   "nbconvert_exporter": "python",
   "pygments_lexer": "ipython3",
   "version": "3.10.11"
  }
 },
 "nbformat": 4,
 "nbformat_minor": 2
}
