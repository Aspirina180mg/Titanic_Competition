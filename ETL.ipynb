{
 "cells": [
  {
   "cell_type": "markdown",
   "id": "f60da202-ae40-4320-b790-2d13ccfd62d3",
   "metadata": {},
   "source": [
    "## Extract, Transform, Load (ETL) Notebook\n",
    "\n",
    "### Introducción\n",
    "Este notebook está diseñado para realizar un proceso ETL (Extract, Transform, Load) de forma genérica. \n",
    "Exploraremos cada uno de los pasos esenciales con ejemplos de código y explicaciones para guiarte.\n"
   ]
  },
  {
   "cell_type": "code",
   "execution_count": null,
   "id": "3b2eddab-40f7-45a5-b971-c8720617d4da",
   "metadata": {},
   "outputs": [],
   "source": [
    "# Bibliotecas necesarias\n",
    "import pandas as pd\n",
    "import numpy as np\n",
    "import sqlalchemy\n",
    "import json\n"
   ]
  },
  {
   "cell_type": "markdown",
   "id": "cfe0c5ee-b41a-4994-823f-d061db292caa",
   "metadata": {},
   "source": [
    "### 1. Extracción de datos (Extract)\n",
    "En esta fase, se extraen datos de diversas fuentes como bases de datos, APIs, o archivos locales.\n",
    "Es importante considerar:\n",
    "- La estructura de los datos\n",
    "- Tipos de archivo soportados\n",
    "- Conexión a bases de datos (usuario, contraseña, host, etc.)\n",
    "- Manejo de errores en la extracción\n"
   ]
  },
  {
   "cell_type": "code",
   "execution_count": null,
   "id": "bdf3f242-78d1-40b4-b2b4-b774088c7cbf",
   "metadata": {},
   "outputs": [],
   "source": [
    "# Ejemplo de extracción de datos desde un archivo CSV\n",
    "def extract_csv(file_path):\n",
    "    \"\"\"\n",
    "    Extrae datos de un archivo CSV y los devuelve como un DataFrame.\n",
    "    \n",
    "    :param file_path: Ruta al archivo CSV.\n",
    "    :return: DataFrame con los datos extraídos.\n",
    "    \"\"\"\n",
    "    try:\n",
    "        df = pd.read_csv(file_path)\n",
    "        print(\"Datos extraídos exitosamente del archivo CSV.\")\n",
    "        return df\n",
    "    except Exception as e:\n",
    "        print(f\"Error durante la extracción: {e}\")\n",
    "        return None\n"
   ]
  },
  {
   "cell_type": "markdown",
   "id": "6fcda446-1268-4dd4-affe-9edbf2f98197",
   "metadata": {},
   "source": [
    "### 2. Transformación de datos (Transform)\n",
    "La transformación es crucial para limpiar y modificar los datos según las necesidades del sistema.\n",
    "Aspectos clave:\n",
    "- Limpieza de datos (valores nulos, duplicados, etc.)\n",
    "- Conversión de formatos\n",
    "- Creación de nuevas columnas derivadas\n",
    "- Enriquecimiento con datos externos\n"
   ]
  },
  {
   "cell_type": "code",
   "execution_count": null,
   "id": "040af3a6-7d58-46e3-bcd6-4da451623d7c",
   "metadata": {},
   "outputs": [],
   "source": [
    "# Ejemplo de transformación de un DataFrame\n",
    "def transform_data(df):\n",
    "    \"\"\"\n",
    "    Realiza transformaciones en el DataFrame proporcionado.\n",
    "    \n",
    "    :param df: DataFrame a transformar.\n",
    "    :return: DataFrame transformado.\n",
    "    \"\"\"\n",
    "    try:\n",
    "        # Eliminar valores nulos\n",
    "        df = df.dropna()\n",
    "        # Eliminar duplicados\n",
    "        df = df.drop_duplicates()\n",
    "        # Crear una nueva columna derivada (ejemplo: suma de dos columnas)\n",
    "        if 'columna1' in df.columns and 'columna2' in df.columns:\n",
    "            df['nueva_columna'] = df['columna1'] + df['columna2']\n",
    "        print(\"Transformación de datos completada.\")\n",
    "        return df\n",
    "    except Exception as e:\n",
    "        print(f\"Error durante la transformación: {e}\")\n",
    "        return None\n"
   ]
  },
  {
   "cell_type": "markdown",
   "id": "53e9084d-3f9a-4e0e-988a-7c47c9c920ad",
   "metadata": {},
   "source": [
    "### 3. Carga de datos (Load)\n",
    "Esta fase implica cargar los datos transformados a un destino como una base de datos, un archivo, o una API.\n",
    "Consideraciones importantes:\n",
    "- Formato del destino\n",
    "- Validación de datos cargados\n",
    "- Eficiencia del proceso\n"
   ]
  },
  {
   "cell_type": "code",
   "execution_count": null,
   "id": "85f47f65-1619-4e26-849b-5874ba841e4c",
   "metadata": {},
   "outputs": [],
   "source": [
    "# Ejemplo de carga de datos a una base de datos usando SQLAlchemy\n",
    "def load_to_database(df, connection_string, table_name):\n",
    "    \"\"\"\n",
    "    Carga un DataFrame en una tabla de base de datos.\n",
    "    \n",
    "    :param df: DataFrame a cargar.\n",
    "    :param connection_string: Cadena de conexión a la base de datos.\n",
    "    :param table_name: Nombre de la tabla de destino.\n",
    "    \"\"\"\n",
    "    try:\n",
    "        engine = sqlalchemy.create_engine(connection_string)\n",
    "        df.to_sql(table_name, engine, if_exists='replace', index=False)\n",
    "        print(f\"Datos cargados exitosamente en la tabla {table_name}.\")\n",
    "    except Exception as e:\n",
    "        print(f\"Error durante la carga: {e}\")\n"
   ]
  },
  {
   "cell_type": "markdown",
   "id": "f4776159-68fe-4136-a1f1-a77982cd1c5a",
   "metadata": {},
   "source": [
    "### Ejecución del proceso ETL\n"
   ]
  },
  {
   "cell_type": "code",
   "execution_count": null,
   "id": "6e08bb7c-f45b-4c1c-a5a7-8150a3856059",
   "metadata": {},
   "outputs": [],
   "source": [
    "# Ruta al archivo de entrada (modificar según sea necesario)\n",
    "file_path = \"datos.csv\"\n",
    "connection_string = \"sqlite:///mi_base_de_datos.db\"\n",
    "table_name = \"tabla_final\"\n",
    "\n",
    "# Pasos del proceso ETL\n",
    "print(\"\\n--- Inicio del Proceso ETL ---\\n\")\n",
    "\n",
    "# Extracción\n",
    "datos = extract_csv(file_path)\n",
    "if datos is not None:\n",
    "    \n",
    "    # Transformación\n",
    "    datos_transformados = transform_data(datos)\n",
    "    \n",
    "    if datos_transformados is not None:\n",
    "        \n",
    "        # Carga\n",
    "        load_to_database(datos_transformados, connection_string, table_name)\n",
    "\n",
    "print(\"\\n--- Fin del Proceso ETL ---\\n\")"
   ]
  },
  {
   "cell_type": "markdown",
   "id": "de2f93f9-cd07-47cc-9334-1858f8c2f049",
   "metadata": {},
   "source": [
    "### CUADRO DE PRUEBA\n",
    "subida desde VS Code"
   ]
  },
  {
   "cell_type": "code",
   "execution_count": null,
   "id": "3c7e841f-7544-40bc-823d-ff774c49a566",
   "metadata": {
    "trusted": true
   },
   "outputs": [],
   "source": []
  }
 ],
 "metadata": {
  "kernelspec": {
   "display_name": "Python 3",
   "language": "python",
   "name": "python3"
  },
  "language_info": {
   "codemirror_mode": {
    "name": "ipython",
    "version": 3
   },
   "file_extension": ".py",
   "mimetype": "text/x-python",
   "name": "python",
   "nbconvert_exporter": "python",
   "pygments_lexer": "ipython3",
   "version": "3.10.12"
  }
 },
 "nbformat": 4,
 "nbformat_minor": 5
}
