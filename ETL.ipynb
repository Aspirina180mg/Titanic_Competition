{
 "cells": [
  {
   "cell_type": "markdown",
   "id": "ca461dfc",
   "metadata": {},
   "source": [
    "# Install and Imports"
   ]
  },
  {
   "cell_type": "code",
   "execution_count": 1,
   "id": "9719e222",
   "metadata": {},
   "outputs": [],
   "source": [
    "from Data_science_utils import *"
   ]
  },
  {
   "cell_type": "code",
   "execution_count": 2,
   "id": "d727a3c3",
   "metadata": {},
   "outputs": [
    {
     "name": "stdout",
     "output_type": "stream",
     "text": [
      "Already installed: pyarrow\n",
      "\n",
      "pyarrow imported\n"
     ]
    }
   ],
   "source": [
    "packages = [\"pyarrow\"]\n",
    "install(packages)\n",
    "import_packages(packages)"
   ]
  },
  {
   "cell_type": "markdown",
   "id": "cfe0c5ee-b41a-4994-823f-d061db292caa",
   "metadata": {},
   "source": [
    "# Extraction"
   ]
  },
  {
   "cell_type": "code",
   "execution_count": 3,
   "id": "ee34284c",
   "metadata": {},
   "outputs": [
    {
     "name": "stdout",
     "output_type": "stream",
     "text": [
      "CSV data extraction successful.\n"
     ]
    }
   ],
   "source": [
    "df_train = extract(\"Raw data/train.csv\")"
   ]
  },
  {
   "cell_type": "markdown",
   "id": "02c91e16",
   "metadata": {},
   "source": [
    "# Data Preprocessing"
   ]
  },
  {
   "cell_type": "code",
   "execution_count": 4,
   "id": "be6ce721",
   "metadata": {},
   "outputs": [
    {
     "name": "stdout",
     "output_type": "stream",
     "text": [
      "\n",
      "---Info-train-data--------------------------------------------\n",
      "---Duplicated values: 0\n",
      "---Fully empty rows: 0\n",
      "\n",
      "---Dataframe head:\n",
      "   PassengerId  Survived  Pclass                                                 Name     Sex   Age  SibSp  Parch            Ticket     Fare Cabin Embarked\n",
      "0            1         0       3                              Braund, Mr. Owen Harris    male  22.0      1      0         A/5 21171   7.2500   NaN        S\n",
      "1            2         1       1  Cumings, Mrs. John Bradley (Florence Briggs Thayer)  female  38.0      1      0          PC 17599  71.2833   C85        C\n",
      "2            3         1       3                               Heikkinen, Miss. Laina  female  26.0      0      0  STON/O2. 3101282   7.9250   NaN        S\n",
      "\n",
      "---Dataframe info:\n",
      "\n",
      "<class 'pandas.core.frame.DataFrame'>\n",
      "RangeIndex: 891 entries, 0 to 890\n",
      "Data columns (total 12 columns):\n",
      " #   Column       Non-Null Count  Dtype  \n",
      "---  ------       --------------  -----  \n",
      " 0   PassengerId  891 non-null    int64  \n",
      " 1   Survived     891 non-null    int64  \n",
      " 2   Pclass       891 non-null    int64  \n",
      " 3   Name         891 non-null    object \n",
      " 4   Sex          891 non-null    object \n",
      " 5   Age          714 non-null    float64\n",
      " 6   SibSp        891 non-null    int64  \n",
      " 7   Parch        891 non-null    int64  \n",
      " 8   Ticket       891 non-null    object \n",
      " 9   Fare         891 non-null    float64\n",
      " 10  Cabin        204 non-null    object \n",
      " 11  Embarked     889 non-null    object \n",
      "dtypes: float64(2), int64(5), object(5)\n",
      "memory usage: 83.7+ KB\n",
      "\n",
      "----Dataframe description:\n",
      "       PassengerId    Survived      Pclass         Age       SibSp       Parch        Fare\n",
      "count   891.000000  891.000000  891.000000  714.000000  891.000000  891.000000  891.000000\n",
      "mean    446.000000    0.383838    2.308642   29.699118    0.523008    0.381594   32.204208\n",
      "std     257.353842    0.486592    0.836071   14.526497    1.102743    0.806057   49.693429\n",
      "min       1.000000    0.000000    1.000000    0.420000    0.000000    0.000000    0.000000\n",
      "25%     223.500000    0.000000    2.000000   20.125000    0.000000    0.000000    7.910400\n",
      "50%     446.000000    0.000000    3.000000   28.000000    0.000000    0.000000   14.454200\n",
      "75%     668.500000    1.000000    3.000000   38.000000    1.000000    0.000000   31.000000\n",
      "max     891.000000    1.000000    3.000000   80.000000    8.000000    6.000000  512.329200\n",
      "\n",
      "---Missing values:\n",
      "PassengerId      0\n",
      "Survived         0\n",
      "Pclass           0\n",
      "Name             0\n",
      "Sex              0\n",
      "Age            177\n",
      "SibSp            0\n",
      "Parch            0\n",
      "Ticket           0\n",
      "Fare             0\n",
      "Cabin          687\n",
      "Embarked         2\n",
      "dtype: int64\n"
     ]
    }
   ],
   "source": [
    "df_info(df_train,\"train data\")"
   ]
  },
  {
   "cell_type": "markdown",
   "id": "5b435a80",
   "metadata": {},
   "source": [
    "## Row checking train data"
   ]
  },
  {
   "cell_type": "code",
   "execution_count": 5,
   "id": "1688e57f",
   "metadata": {},
   "outputs": [
    {
     "name": "stdout",
     "output_type": "stream",
     "text": [
      "Column: PassengerId - All values are different\n",
      "--------------------------------------------------\n",
      "Column: Survived - Unique values: 0, 1\n",
      "--------------------------------------------------\n",
      "Column: Pclass - Unique values: 1, 2, 3\n",
      "--------------------------------------------------\n",
      "Column: Name - All values are different\n",
      "--------------------------------------------------\n",
      "Column: Sex - Unique values: female, male\n",
      "--------------------------------------------------\n",
      "Column: Age - Unique values: 0.42, 0.67, 0.75, 0.83, 0.92, 1.0, 10.0, 11.0, 12.0, 13.0, 14.0, 14.5, 15.0, 16.0, 17.0, 18.0, 19.0, 2.0, 20.0, 20.5, 21.0, 22.0, 23.0, 23.5, 24.0, 24.5, 25.0, 26.0, 27.0, 28.0, 28.5, 29.0, 3.0, 30.0, 30.5, 31.0, 32.0, 32.5, 33.0, 34.0, 34.5, 35.0, 36.0, 36.5, 37.0, 38.0, 39.0, 4.0, 40.0, 40.5, 41.0, 42.0, 43.0, 44.0, 45.0, 45.5, 46.0, 47.0, 48.0, 49.0, 5.0, 50.0, 51.0, 52.0, 53.0, 54.0, 55.0, 55.5, 56.0, 57.0, 58.0, 59.0, 6.0, 60.0, 61.0, 62.0, 63.0, 64.0, 65.0, 66.0, 7.0, 70.0, 70.5, 71.0, 74.0, 8.0, 80.0, 9.0, nan\n",
      "--------------------------------------------------\n",
      "Column: SibSp - Unique values: 0, 1, 2, 3, 4, 5, 8\n",
      "--------------------------------------------------\n",
      "Column: Parch - Unique values: 0, 1, 2, 3, 4, 5, 6\n",
      "--------------------------------------------------\n",
      "Column: Ticket - Unique values: 110152, 110413, 110465, 110564, 110813, 111240, 111320, 111361, 111369, 111426, 111427, 111428, 112050, 112052, 112053, 112058, 112059, 112277, 112379, 113028, 113043, 113050, 113051, 113055, 113056, 113059, 113501, 113503, 113505, 113509, 113510, 113514, 113572, 113760, 113767, 113773, 113776, 113781, 113783, 113784, 113786, 113787, 113788, 113789, 113792, 113794, 113796, 113798, 113800, 113803, 113804, 113806, 113807, 11668, 11751, 11752, 11753, 11755, 11765, 11767, 11769, 11771, 11774, 11813, 11967, 12233, 12460, 12749, 13049, 13213, 13214, 13502, 13507, 13509, 13567, 13568, 14311, 14312, 14313, 14973, 1601, 16966, 16988, 17421, 17453, 17463, 17464, 17465, 17466, 17474, 17764, 19877, 19928, 19943, 19947, 19950, 19952, 19972, 19988, 19996, 2003, 211536, 21440, 218629, 219533, 220367, 220845, 2223, 223596, 226593, 226875, 228414, 229236, 230080, 230136, 230433, 230434, 231919, 231945, 233639, 233866, 234360, 234604, 234686, 234818, 236171, 236852, 236853, 237442, 237565, 237668, 237671, 237736, 237789, 237798, 239853, 239854, 239855, 239856, 239865, 240929, 24160, 243847, 243880, 244252, 244270, 244278, 244310, 244358, 244361, 244367, 244373, 248698, 248706, 248723, 248727, 248731, 248733, 248738, 248740, 248747, 250643, 250644, 250646, 250647, 250648, 250649, 250651, 250652, 250653, 250655, 2620, 2623, 2624, 2625, 2626, 2627, 2628, 2629, 2631, 26360, 2641, 2647, 2648, 2649, 2650, 2651, 2653, 2659, 2661, 2662, 2663, 2664, 2665, 2666, 2667, 2668, 2669, 26707, 2671, 2672, 2674, 2677, 2678, 2680, 2683, 2685, 2686, 2687, 2689, 2690, 2691, 2693, 2694, 2695, 2697, 2699, 2700, 27042, 27267, 27849, 28134, 28206, 28213, 28220, 28228, 28403, 28424, 28425, 28551, 28664, 28665, 29011, 2908, 29103, 29104, 29105, 29106, 29108, 2926, 29750, 29751, 3101264, 3101265, 3101267, 3101276, 3101277, 3101278, 3101281, 3101295, 3101296, 3101298, 31027, 31028, 312991, 312992, 312993, 31418, 315037, 315082, 315084, 315086, 315088, 315089, 315090, 315093, 315094, 315096, 315097, 315098, 315151, 315153, 323592, 323951, 324669, 330877, 330909, 330919, 330923, 330931, 330932, 330935, 330958, 330959, 330979, 330980, 334912, 335097, 335677, 33638, 336439, 3411, 341826, 34218, 342826, 343095, 343120, 343275, 343276, 345364, 345572, 345763, 345764, 345765, 345767, 345769, 345770, 345773, 345774, 345777, 345778, 345779, 345780, 345781, 345783, 3460, 347054, 347060, 347061, 347062, 347063, 347064, 347067, 347068, 347069, 347071, 347073, 347074, 347076, 347077, 347078, 347080, 347081, 347082, 347083, 347085, 347087, 347088, 347089, 3474, 347464, 347466, 347468, 347470, 347742, 347743, 348121, 348123, 348124, 349201, 349203, 349204, 349205, 349206, 349207, 349208, 349209, 349210, 349212, 349213, 349214, 349215, 349216, 349217, 349218, 349219, 349221, 349222, 349223, 349224, 349225, 349227, 349228, 349231, 349233, 349234, 349236, 349237, 349239, 349240, 349241, 349242, 349243, 349244, 349245, 349246, 349247, 349248, 349249, 349251, 349252, 349253, 349254, 349256, 349257, 349909, 349910, 349912, 350025, 350026, 350029, 350034, 350035, 350036, 350042, 350043, 350046, 350047, 350048, 350050, 350052, 350060, 350404, 350406, 350407, 350417, 35273, 35281, 35851, 35852, 358585, 36209, 362316, 363291, 363294, 363592, 364498, 364499, 364500, 364506, 364511, 364512, 364516, 364846, 364848, 364849, 364850, 364851, 365222, 365226, 36568, 367226, 367228, 367229, 367230, 367231, 367232, 367655, 368323, 36864, 36865, 36866, 368703, 36928, 36947, 36963, 36967, 36973, 370129, 370365, 370369, 370370, 370371, 370372, 370373, 370375, 370376, 370377, 371060, 371110, 371362, 372622, 373450, 374746, 374887, 374910, 376564, 376566, 382649, 382651, 382652, 383121, 384461, 386525, 392091, 392092, 392096, 394140, 4133, 4134, 4135, 4136, 4137, 4138, 4579, 54636, 5727, 65303, 65304, 65306, 6563, 693, 695, 7267, 7534, 7540, 7545, 7546, 7552, 7553, 7598, 8471, 8475, 9234, A./5. 2152, A./5. 3235, A.5. 11206, A.5. 18509, A/4 45380, A/4 48871, A/4. 20589, A/4. 34244, A/4. 39886, A/5 21171, A/5 21172, A/5 21173, A/5 21174, A/5 2466, A/5 2817, A/5 3536, A/5 3540, A/5 3594, A/5 3902, A/5. 10482, A/5. 13032, A/5. 2151, A/5. 3336, A/5. 3337, A/5. 851, A/S 2816, A4. 54510, C 17369, C 4001, C 7075, C 7076, C 7077, C.A. 17248, C.A. 18723, C.A. 2315, C.A. 24579, C.A. 24580, C.A. 2673, C.A. 29178, C.A. 29395, C.A. 29566, C.A. 31026, C.A. 31921, C.A. 33111, C.A. 33112, C.A. 33595, C.A. 34260, C.A. 34651, C.A. 37671, C.A. 5547, C.A. 6212, C.A./SOTON 34068, CA 2144, CA. 2314, CA. 2343, F.C. 12750, F.C.C. 13528, F.C.C. 13529, F.C.C. 13531, Fa 265302, LINE, P/PP 3381, PC 17318, PC 17473, PC 17474, PC 17475, PC 17476, PC 17477, PC 17482, PC 17483, PC 17485, PC 17558, PC 17569, PC 17572, PC 17582, PC 17585, PC 17590, PC 17592, PC 17593, PC 17595, PC 17596, PC 17597, PC 17599, PC 17600, PC 17601, PC 17603, PC 17604, PC 17605, PC 17608, PC 17609, PC 17610, PC 17611, PC 17612, PC 17754, PC 17755, PC 17756, PC 17757, PC 17758, PC 17759, PC 17760, PC 17761, PP 4348, PP 9549, S.C./A.4. 23567, S.C./PARIS 2079, S.O./P.P. 3, S.O./P.P. 751, S.O.C. 14879, S.O.P. 1166, S.P. 3464, S.W./PP 752, SC 1748, SC/AH 29037, SC/AH 3085, SC/AH Basle 541, SC/PARIS 2131, SC/PARIS 2133, SC/PARIS 2146, SC/PARIS 2149, SC/PARIS 2167, SC/Paris 2123, SC/Paris 2163, SCO/W 1585, SO/C 14885, SOTON/O.Q. 3101305, SOTON/O.Q. 3101306, SOTON/O.Q. 3101307, SOTON/O.Q. 3101310, SOTON/O.Q. 3101311, SOTON/O.Q. 3101312, SOTON/O.Q. 392078, SOTON/O.Q. 392087, SOTON/O2 3101272, SOTON/O2 3101287, SOTON/OQ 3101316, SOTON/OQ 3101317, SOTON/OQ 392076, SOTON/OQ 392082, SOTON/OQ 392086, SOTON/OQ 392089, SOTON/OQ 392090, STON/O 2. 3101269, STON/O 2. 3101273, STON/O 2. 3101274, STON/O 2. 3101275, STON/O 2. 3101280, STON/O 2. 3101285, STON/O 2. 3101286, STON/O 2. 3101288, STON/O 2. 3101289, STON/O 2. 3101292, STON/O 2. 3101293, STON/O 2. 3101294, STON/O2. 3101271, STON/O2. 3101279, STON/O2. 3101282, STON/O2. 3101283, STON/O2. 3101290, SW/PP 751, W./C. 14258, W./C. 14263, W./C. 6607, W./C. 6608, W./C. 6609, W.E.P. 5734, W/C 14208, WE/P 5735\n",
      "--------------------------------------------------\n",
      "Column: Fare - Unique values: 0.0, 10.1708, 10.4625, 10.5, 10.5167, 106.425, 108.9, 11.1333, 11.2417, 11.5, 110.8833, 113.275, 12.0, 12.275, 12.2875, 12.35, 12.475, 12.525, 12.65, 12.875, 120.0, 13.0, 13.4167, 13.5, 13.7917, 13.8583, 13.8625, 133.65, 134.5, 135.6333, 14.0, 14.1083, 14.4, 14.4542, 14.4583, 14.5, 146.5208, 15.0, 15.0458, 15.05, 15.1, 15.2458, 15.5, 15.55, 15.7417, 15.75, 15.85, 15.9, 151.55, 153.4625, 16.0, 16.1, 16.7, 164.8667, 17.4, 17.8, 18.0, 18.75, 18.7875, 19.2583, 19.5, 19.9667, 20.2125, 20.25, 20.525, 20.575, 21.0, 21.075, 21.6792, 211.3375, 211.5, 22.025, 22.3583, 22.525, 221.7792, 227.525, 23.0, 23.25, 23.45, 24.0, 24.15, 247.5208, 25.4667, 25.5875, 25.925, 25.9292, 26.0, 26.25, 26.2833, 26.2875, 26.3875, 26.55, 262.375, 263.0, 27.0, 27.7208, 27.75, 27.9, 28.5, 28.7125, 29.0, 29.125, 29.7, 30.0, 30.0708, 30.5, 30.6958, 31.0, 31.275, 31.3875, 32.3208, 32.5, 33.0, 33.5, 34.0208, 34.375, 34.6542, 35.0, 35.5, 36.75, 37.0042, 38.5, 39.0, 39.4, 39.6, 39.6875, 4.0125, 40.125, 41.5792, 42.4, 46.9, 47.1, 49.5, 49.5042, 5.0, 50.0, 50.4958, 51.4792, 51.8625, 512.3292, 52.0, 52.5542, 53.1, 55.0, 55.4417, 55.9, 56.4958, 56.9292, 57.0, 57.9792, 59.4, 6.2375, 6.4375, 6.45, 6.4958, 6.75, 6.8583, 6.95, 6.975, 61.175, 61.3792, 61.9792, 63.3583, 65.0, 66.6, 69.3, 69.55, 7.0458, 7.05, 7.0542, 7.125, 7.1417, 7.225, 7.2292, 7.25, 7.3125, 7.4958, 7.5208, 7.55, 7.6292, 7.65, 7.725, 7.7292, 7.7333, 7.7375, 7.7417, 7.75, 7.775, 7.7875, 7.7958, 7.8, 7.8292, 7.8542, 7.875, 7.8792, 7.8875, 7.8958, 7.925, 71.0, 71.2833, 73.5, 75.25, 76.2917, 76.7292, 77.2875, 77.9583, 78.2667, 78.85, 79.2, 79.65, 8.0292, 8.05, 8.1125, 8.1375, 8.1583, 8.3, 8.3625, 8.4042, 8.4333, 8.4583, 8.5167, 8.6542, 8.6625, 8.6833, 8.7125, 8.85, 80.0, 81.8583, 82.1708, 83.1583, 83.475, 86.5, 89.1042, 9.0, 9.2167, 9.225, 9.35, 9.475, 9.4833, 9.5, 9.5875, 9.825, 9.8375, 9.8417, 9.8458, 90.0, 91.0792, 93.5\n",
      "--------------------------------------------------\n",
      "Column: Cabin - Unique values: A10, A14, A16, A19, A20, A23, A24, A26, A31, A32, A34, A36, A5, A6, A7, B101, B102, B18, B19, B20, B22, B28, B3, B30, B35, B37, B38, B39, B4, B41, B42, B49, B5, B50, B51 B53 B55, B57 B59 B63 B66, B58 B60, B69, B71, B73, B77, B78, B79, B80, B82 B84, B86, B94, B96 B98, C101, C103, C104, C106, C110, C111, C118, C123, C124, C125, C126, C128, C148, C2, C22 C26, C23 C25 C27, C30, C32, C45, C46, C47, C49, C50, C52, C54, C62 C64, C65, C68, C7, C70, C78, C82, C83, C85, C86, C87, C90, C91, C92, C93, C95, C99, D, D10 D12, D11, D15, D17, D19, D20, D21, D26, D28, D30, D33, D35, D36, D37, D45, D46, D47, D48, D49, D50, D56, D6, D7, D9, E10, E101, E12, E121, E17, E24, E25, E31, E33, E34, E36, E38, E40, E44, E46, E49, E50, E58, E63, E67, E68, E77, E8, F E69, F G63, F G73, F2, F33, F38, F4, G6, T, nan\n",
      "--------------------------------------------------\n",
      "Column: Embarked - Unique values: C, Q, S, nan\n",
      "--------------------------------------------------\n"
     ]
    }
   ],
   "source": [
    "column_unique(df_train)"
   ]
  },
  {
   "cell_type": "code",
   "execution_count": 6,
   "id": "9a63d73c",
   "metadata": {},
   "outputs": [
    {
     "name": "stdout",
     "output_type": "stream",
     "text": [
      "\n",
      "Unique values in 'Survived' (total 891):\n",
      "0: 549 times (61.62%)\n",
      "1: 342 times (38.38%)\n",
      "\n",
      "Unique values in 'Pclass' (total 891):\n",
      "3: 491 times (55.11%)\n",
      "1: 216 times (24.24%)\n",
      "2: 184 times (20.65%)\n",
      "\n",
      "Unique values in 'Sex' (total 891):\n",
      "male: 577 times (64.76%)\n",
      "female: 314 times (35.24%)\n",
      "\n",
      "Unique values in 'Age' (total 714) - Showing only the first 10 values:\n",
      "24.0: 30 times (4.20%)\n",
      "22.0: 27 times (3.78%)\n",
      "18.0: 26 times (3.64%)\n",
      "28.0: 25 times (3.50%)\n",
      "30.0: 25 times (3.50%)\n",
      "19.0: 25 times (3.50%)\n",
      "21.0: 24 times (3.36%)\n",
      "25.0: 23 times (3.22%)\n",
      "36.0: 22 times (3.08%)\n",
      "29.0: 20 times (2.80%)\n",
      "\n",
      "Unique values in 'SibSp' (total 891):\n",
      "0: 608 times (68.24%)\n",
      "1: 209 times (23.46%)\n",
      "2: 28 times (3.14%)\n",
      "4: 18 times (2.02%)\n",
      "3: 16 times (1.80%)\n",
      "8: 7 times (0.79%)\n",
      "5: 5 times (0.56%)\n",
      "\n",
      "Unique values in 'Parch' (total 891):\n",
      "0: 678 times (76.09%)\n",
      "1: 118 times (13.24%)\n",
      "2: 80 times (8.98%)\n",
      "5: 5 times (0.56%)\n",
      "3: 5 times (0.56%)\n",
      "4: 4 times (0.45%)\n",
      "6: 1 times (0.11%)\n",
      "\n",
      "Unique values in 'Ticket' (total 891) - Showing only the first 10 values:\n",
      "347082: 7 times (0.79%)\n",
      "1601: 7 times (0.79%)\n",
      "CA. 2343: 7 times (0.79%)\n",
      "3101295: 6 times (0.67%)\n",
      "CA 2144: 6 times (0.67%)\n",
      "347088: 6 times (0.67%)\n",
      "382652: 5 times (0.56%)\n",
      "S.O.C. 14879: 5 times (0.56%)\n",
      "113760: 4 times (0.45%)\n",
      "19950: 4 times (0.45%)\n",
      "\n",
      "Unique values in 'Fare' (total 891) - Showing only the first 10 values:\n",
      "8.05: 43 times (4.83%)\n",
      "13.0: 42 times (4.71%)\n",
      "7.8958: 38 times (4.26%)\n",
      "7.75: 34 times (3.82%)\n",
      "26.0: 31 times (3.48%)\n",
      "10.5: 24 times (2.69%)\n",
      "7.925: 18 times (2.02%)\n",
      "7.775: 16 times (1.80%)\n",
      "7.2292: 15 times (1.68%)\n",
      "26.55: 15 times (1.68%)\n",
      "\n",
      "Unique values in 'Cabin' (total 204) - Showing only the first 10 values:\n",
      "G6: 4 times (1.96%)\n",
      "C23 C25 C27: 4 times (1.96%)\n",
      "B96 B98: 4 times (1.96%)\n",
      "F2: 3 times (1.47%)\n",
      "D: 3 times (1.47%)\n",
      "E101: 3 times (1.47%)\n",
      "C22 C26: 3 times (1.47%)\n",
      "F33: 3 times (1.47%)\n",
      "C83: 2 times (0.98%)\n",
      "C123: 2 times (0.98%)\n",
      "\n",
      "Unique values in 'Embarked' (total 889):\n",
      "S: 644 times (72.44%)\n",
      "C: 168 times (18.90%)\n",
      "Q: 77 times (8.66%)\n"
     ]
    }
   ],
   "source": [
    "unique_count(df_train, \"Survived\")\n",
    "unique_count(df_train, \"Pclass\")\n",
    "unique_count(df_train, \"Sex\")\n",
    "unique_count(df_train, \"Age\")\n",
    "unique_count(df_train, \"SibSp\")\n",
    "unique_count(df_train, \"Parch\")\n",
    "unique_count(df_train, \"Ticket\")\n",
    "unique_count(df_train, \"Fare\")\n",
    "unique_count(df_train, \"Cabin\")\n",
    "unique_count(df_train, \"Embarked\")"
   ]
  },
  {
   "cell_type": "code",
   "execution_count": 7,
   "id": "5388a625",
   "metadata": {},
   "outputs": [
    {
     "name": "stdout",
     "output_type": "stream",
     "text": [
      "Survived: 342\n",
      "Total passengers: 891\n",
      "Survival percentage (of total passengers): 38.38%\n",
      "\n",
      "Survival by Pclass (percentages/total):\n",
      "Pclass\n",
      "1    15.263749\n",
      "2     9.764310\n",
      "3    13.355780\n",
      "dtype: float64\n",
      "\n",
      "Survival by Pclass (percentages/survived):\n",
      "Pclass\n",
      "1    39.766082\n",
      "2    25.438596\n",
      "3    34.795322\n",
      "dtype: float64\n",
      "\n",
      "Survival by Sex (percentages/total):\n",
      "Sex\n",
      "female    26.150393\n",
      "male      12.233446\n",
      "dtype: float64\n",
      "\n",
      "Survival by Sex (percentages/survived):\n",
      "Sex\n",
      "female    68.128655\n",
      "male      31.871345\n",
      "dtype: float64\n"
     ]
    }
   ],
   "source": [
    "# Calculate total number of survivors\n",
    "survived_count = df_train['Survived'].sum()\n",
    "total_count = df_train['Survived'].count()\n",
    "\n",
    "# Calculate total survival percentage\n",
    "survival_percentage = (survived_count / total_count) * 100\n",
    "\n",
    "# Helper function to calculate group survival percentages\n",
    "def calculate_group_survival_percentage(group_by):\n",
    "    \"\"\"Calculate survival percentages by group.\"\"\"\n",
    "    total_percentage = (\n",
    "        df_train[df_train['Survived'] == 1].groupby(group_by).size() / total_count * 100\n",
    "    )\n",
    "    survived_percentage = (\n",
    "        df_train[df_train['Survived'] == 1].groupby(group_by).size() / survived_count * 100\n",
    "    )\n",
    "    return total_percentage, survived_percentage\n",
    "\n",
    "# Calculate survival statistics by Pclass and Sex\n",
    "survived_by_pclass_total, survived_by_pclass_survived = calculate_group_survival_percentage('Pclass')\n",
    "survived_by_sex_total, survived_by_sex_survived = calculate_group_survival_percentage('Sex')\n",
    "\n",
    "# Print results\n",
    "print(f\"Survived: {survived_count}\")\n",
    "print(f\"Total passengers: {total_count}\")\n",
    "print(f\"Survival percentage (of total passengers): {survival_percentage:.2f}%\")\n",
    "\n",
    "print(\"\\nSurvival by Pclass (percentages/total):\")\n",
    "print(survived_by_pclass_total)\n",
    "\n",
    "print(\"\\nSurvival by Pclass (percentages/survived):\")\n",
    "print(survived_by_pclass_survived)\n",
    "\n",
    "print(\"\\nSurvival by Sex (percentages/total):\")\n",
    "print(survived_by_sex_total)\n",
    "\n",
    "print(\"\\nSurvival by Sex (percentages/survived):\")\n",
    "print(survived_by_sex_survived)"
   ]
  },
  {
   "cell_type": "code",
   "execution_count": 8,
   "id": "fa14399d",
   "metadata": {},
   "outputs": [
    {
     "name": "stdout",
     "output_type": "stream",
     "text": [
      "\n",
      "Survived by Pclass (percentages):\n",
      "Pclass\n",
      "1    39.766082\n",
      "2    25.438596\n",
      "3    34.795322\n",
      "dtype: float64\n"
     ]
    }
   ],
   "source": [
    "total_survived = df_train[df_train['Survived'] == 1].shape[0]\n",
    "\n",
    "# Calculate the number of survivors by Pclass\n",
    "survived_by_pclass = df_train[df_train['Survived'] == 1].groupby('Pclass').size()\n",
    "\n",
    "# Calculate the percentages\n",
    "survived_by_pclass_percentage = (survived_by_pclass / total_survived) * 100\n",
    "\n",
    "# Print the percentages\n",
    "print(f\"\\nSurvived by Pclass (percentages):\\n{survived_by_pclass_percentage}\")"
   ]
  },
  {
   "cell_type": "code",
   "execution_count": 9,
   "id": "bec23a1f",
   "metadata": {},
   "outputs": [
    {
     "name": "stdout",
     "output_type": "stream",
     "text": [
      "Number of people who survived, split by Pclass and Sex:\n",
      "Pclass  Sex   \n",
      "1       female    91\n",
      "        male      45\n",
      "2       female    70\n",
      "        male      17\n",
      "3       female    72\n",
      "        male      47\n",
      "dtype: int64\n"
     ]
    }
   ],
   "source": [
    "survived_by_pclass_sex = df_train[df_train['Survived'] == 1].groupby(['Pclass', 'Sex']).size()\n",
    "\n",
    "# Display the result\n",
    "print(\"Number of people who survived, split by Pclass and Sex:\")\n",
    "print(survived_by_pclass_sex)"
   ]
  },
  {
   "cell_type": "markdown",
   "id": "6fcda446-1268-4dd4-affe-9edbf2f98197",
   "metadata": {},
   "source": [
    "# Transform"
   ]
  },
  {
   "cell_type": "code",
   "execution_count": 10,
   "id": "d4171169",
   "metadata": {},
   "outputs": [
    {
     "name": "stdout",
     "output_type": "stream",
     "text": [
      "\n",
      "---Cleaning-train-data----------------------------------------\n",
      "0 duplicate rows removed.\n",
      "866 missing values removed.\n",
      "Index reset.\n",
      "\n",
      "---Info-train-data--------------------------------------------\n",
      "---Duplicated values: 0\n",
      "---Fully empty rows: 0\n",
      "\n",
      "---Dataframe head:\n",
      "   PassengerId  Survived  Pclass                                                 Name     Sex   Age  SibSp  Parch            Ticket     Fare Cabin Embarked\n",
      "0            1         0       3                              Braund, Mr. Owen Harris    male  22.0      1      0         A/5 21171   7.2500   NaN        S\n",
      "1            2         1       1  Cumings, Mrs. John Bradley (Florence Briggs Thayer)  female  38.0      1      0          PC 17599  71.2833   C85        C\n",
      "2            3         1       3                               Heikkinen, Miss. Laina  female  26.0      0      0  STON/O2. 3101282   7.9250   NaN        S\n",
      "\n",
      "---Dataframe info:\n",
      "\n",
      "<class 'pandas.core.frame.DataFrame'>\n",
      "RangeIndex: 891 entries, 0 to 890\n",
      "Data columns (total 12 columns):\n",
      " #   Column       Non-Null Count  Dtype  \n",
      "---  ------       --------------  -----  \n",
      " 0   PassengerId  891 non-null    int64  \n",
      " 1   Survived     891 non-null    int64  \n",
      " 2   Pclass       891 non-null    int64  \n",
      " 3   Name         891 non-null    object \n",
      " 4   Sex          891 non-null    object \n",
      " 5   Age          714 non-null    float64\n",
      " 6   SibSp        891 non-null    int64  \n",
      " 7   Parch        891 non-null    int64  \n",
      " 8   Ticket       891 non-null    object \n",
      " 9   Fare         891 non-null    float64\n",
      " 10  Cabin        204 non-null    object \n",
      " 11  Embarked     889 non-null    object \n",
      "dtypes: float64(2), int64(5), object(5)\n",
      "memory usage: 83.7+ KB\n",
      "\n",
      "----Dataframe description:\n",
      "       PassengerId    Survived      Pclass         Age       SibSp       Parch        Fare\n",
      "count   891.000000  891.000000  891.000000  714.000000  891.000000  891.000000  891.000000\n",
      "mean    446.000000    0.383838    2.308642   29.699118    0.523008    0.381594   32.204208\n",
      "std     257.353842    0.486592    0.836071   14.526497    1.102743    0.806057   49.693429\n",
      "min       1.000000    0.000000    1.000000    0.420000    0.000000    0.000000    0.000000\n",
      "25%     223.500000    0.000000    2.000000   20.125000    0.000000    0.000000    7.910400\n",
      "50%     446.000000    0.000000    3.000000   28.000000    0.000000    0.000000   14.454200\n",
      "75%     668.500000    1.000000    3.000000   38.000000    1.000000    0.000000   31.000000\n",
      "max     891.000000    1.000000    3.000000   80.000000    8.000000    6.000000  512.329200\n",
      "\n",
      "---Missing values:\n",
      "PassengerId      0\n",
      "Survived         0\n",
      "Pclass           0\n",
      "Name             0\n",
      "Sex              0\n",
      "Age            177\n",
      "SibSp            0\n",
      "Parch            0\n",
      "Ticket           0\n",
      "Fare             0\n",
      "Cabin          687\n",
      "Embarked         2\n",
      "dtype: int64\n"
     ]
    }
   ],
   "source": [
    "df_clean(df_train, \"train data\")\n",
    "df_info(df_train, \"train data\")"
   ]
  },
  {
   "cell_type": "markdown",
   "id": "e7e59693",
   "metadata": {},
   "source": [
    "## New rows creation"
   ]
  },
  {
   "cell_type": "markdown",
   "id": "19135854",
   "metadata": {},
   "source": [
    "## External Data enrichment"
   ]
  },
  {
   "cell_type": "markdown",
   "id": "53e9084d-3f9a-4e0e-988a-7c47c9c920ad",
   "metadata": {},
   "source": [
    "# Load"
   ]
  },
  {
   "cell_type": "code",
   "execution_count": 11,
   "id": "85f47f65-1619-4e26-849b-5874ba841e4c",
   "metadata": {},
   "outputs": [],
   "source": [
    "df_train.to_parquet('dataframes/df_train.parquet', index=False)"
   ]
  }
 ],
 "metadata": {
  "kernelspec": {
   "display_name": "Python 3",
   "language": "python",
   "name": "python3"
  },
  "language_info": {
   "codemirror_mode": {
    "name": "ipython",
    "version": 3
   },
   "file_extension": ".py",
   "mimetype": "text/x-python",
   "name": "python",
   "nbconvert_exporter": "python",
   "pygments_lexer": "ipython3",
   "version": "3.12.8"
  }
 },
 "nbformat": 4,
 "nbformat_minor": 5
}
